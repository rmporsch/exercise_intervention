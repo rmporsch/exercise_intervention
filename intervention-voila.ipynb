{
 "cells": [
  {
   "cell_type": "markdown",
   "id": "a1f7e18f-3adb-4bdc-a9d5-64f024bea362",
   "metadata": {},
   "source": [
    "# Improving Exercise Routine Adherence Through Interventions"
   ]
  },
  {
   "cell_type": "markdown",
   "id": "d9fb8421-7344-49ee-933b-9cae13956aa3",
   "metadata": {},
   "source": [
    "[AIA's Vitality Program](https://www.aia.com.hk/en/our-products/aia-vitality.html) aims to encourages customers to follow a healthy lifestyle by engaging in exercises and leading an active lifestyle.\n",
    "The program rewards customer through financial incentives by either increasing the insurance coverage or discounted insurance premiums.\n",
    "However, in order to achieve long lasting effects it is crucial that customers form habits as well as keep these habits in the long run.\n",
    "\n",
    "This project aims to improve habit formation and adherence of exercise routine through targeted and personalized interventions. \n",
    "\n",
    "\n",
    "## Example\n",
    "\n",
    "Joe recently purchased a health insurance policy plan from AIA's Vitality Program.\n",
    "In the first few days he started enthusiastically and met his daily step goal.\n",
    "He also joined a gym and participated in a number of early morning classes.\n",
    "Thus Joe started to form a exercise habit.y  \n",
    "\n",
    "However, after a while his motivation to achieve his daily goals dropped.\n",
    "This was mostly due to an increased work load at his current firm which required him to go to the office early.\n",
    "Hence, making his frequent morning visits to the gym impossible.\n",
    "\n",
    "## Intervention\n",
    "\n",
    "Through Joe's historical exercise data we can detect changes in his exercise routines and formulate adequate interventions.\n",
    "The here proposed project aims to use historical data of past exercise behavior to predict future behavior.\n",
    "These prediction can then be used to compare the expected amount of exercise, given past behavior, to the actual amount of exercise.\n",
    "\n",
    "In the example of Joe, we would predict a high amount of exercises in the morning, given his past behavior but actually observed hardly any physical activities due to his recent change in behavior.\n",
    "This puts his exercise goals in danger and requires the need for an intervention to retain a persistent exercise habit.\n",
    "These intervention could include:\n",
    "- A simple notification with suggestions on how to exercise during lunch break\n",
    "- A notification showing a list of evening classes at Joe's gym\n",
    "- A notification containing a list of running routes near Joe's place of residence\n",
    "\n",
    "Similarly, we can also look at weekly or monthly discrepancies between prediction and actual behavior in other variables such as weight or sleep.\n",
    "Indeed, a change in sleep rhythm could potentially indicate an increase in stress levels and could have serious health consequences.\n",
    "Targeted interventions to address these abnormality in sleep cycles could include bed-time notifications, or health questionnaires regarding coffee consumption as well as others.\n",
    "\n",
    "# Demo\n",
    "\n",
    "The here presented demo aims to provide a proof-of-concept (POC).\n",
    "Please feel free to use the dropdown menu to select area's of interest, customer id and variable of interest.\n",
    "The plot will then show past behavior as well as predicted future behavior. The shaded area within the plot indicates the 80% confidence interval of the prediction.\n",
    "However, due to the limited data not all subjects have a prediction."
   ]
  },
  {
   "cell_type": "code",
   "execution_count": 1,
   "id": "277009e5-31c9-487c-9772-8f6620199c1b",
   "metadata": {},
   "outputs": [],
   "source": [
    "import httpx\n",
    "import pandas as pd\n",
    "from datetime import datetime\n",
    "import json\n",
    "import ipywidgets as widgets\n",
    "from typing import List, Dict\n",
    "import pandas as pd\n",
    "from ipywidgets import interact, Dropdown\n",
    "from IPython.display import clear_output\n",
    "import numpy as np\n",
    "import matplotlib.pyplot as plt\n",
    "%matplotlib inline"
   ]
  },
  {
   "cell_type": "code",
   "execution_count": 10,
   "id": "d9da4039-ec54-4380-ad53-be3b50edce56",
   "metadata": {},
   "outputs": [],
   "source": [
    "class DataRequest(object):\n",
    "    \n",
    "    def __init__(self, base_url: str):\n",
    "        self._client = httpx.Client(base_url=base_url)\n",
    "        self._data_cache = {}\n",
    "    \n",
    "    def _get(self, end_point: str):\n",
    "        _hash = hash(end_point)\n",
    "        if _hash in self._data_cache.keys():\n",
    "            return self._data_cache[_hash]\n",
    "        out = self._client.get(end_point).json()\n",
    "        self._data_cache[_hash] = out\n",
    "        return out\n",
    "    \n",
    "    def _post(self, end_point: str, data: Dict):\n",
    "        _hash = hash(end_point) + hash(json.dumps(data, sort_keys=True))\n",
    "        if _hash in self._data_cache.keys():\n",
    "            return self._data_cache[_hash]\n",
    "        out = self._client.post(end_point, json=data).json()\n",
    "        self._data_cache[_hash] = out\n",
    "        return out\n",
    "    \n",
    "    def get_tables(self):\n",
    "        url = \"table\"\n",
    "        return self._get(url)\n",
    "    \n",
    "    def get_users(self, table):\n",
    "        url = f\"user/table/{table}\"\n",
    "        return self._get(url)\n",
    "    \n",
    "    def get_data(self, user: str, num_items: int, table: str):\n",
    "        url = \"/user/data\"\n",
    "        req_body = {\"user_id\": user, \"num_items\": num_items, \"table\": table}\n",
    "        output = self._post(url, req_body)\n",
    "        return output\n",
    "    \n",
    "    def get_prediction(self, user: str, table: str):\n",
    "        url = f\"/user/prediction/{table}/{user}\"\n",
    "        output = self._get(url)\n",
    "        return output\n",
    "    \n",
    "    def get_variable_names(self, table: str):\n",
    "        url = f\"/table/{table}\"\n",
    "        output = self._get(url)\n",
    "        return output\n",
    "    \n",
    "    def get_data_prediction(self, user: str, num_items: int, table: str):\n",
    "        data = self.get_data(user, num_items, table)\n",
    "        pred_data = self.get_prediction(user, table)\n",
    "        data_pd_ready = [{k: v for k, v in d.items() if k not in (\"field_name\", \"user\")} for d in data['data']]\n",
    "        pred_data_pd_ready = [{k: v for k, v in d.items() if k not in (\"field_name\", \"user\")} for d in pred_data['data']]\n",
    "        dt = pd.concat([pd.DataFrame(data_pd_ready), pd.DataFrame(pred_data_pd_ready)], axis=0)\n",
    "        return dt.reset_index()"
   ]
  },
  {
   "cell_type": "code",
   "execution_count": 11,
   "id": "c68ada49-fa49-4a6b-abff-38bd703a89bf",
   "metadata": {},
   "outputs": [],
   "source": [
    "BASE_URL = \"https://k2wnk7fz02.execute-api.ap-southeast-1.amazonaws.com/api/\""
   ]
  },
  {
   "cell_type": "code",
   "execution_count": 12,
   "id": "05e28e8a-916b-4be6-b944-c7bed0286064",
   "metadata": {},
   "outputs": [],
   "source": [
    "client = DataRequest(BASE_URL)"
   ]
  },
  {
   "cell_type": "code",
   "execution_count": 13,
   "id": "b52409af-9aaf-4dc2-a94f-9cb1ed430dc4",
   "metadata": {},
   "outputs": [],
   "source": [
    "tables = client.get_tables()\n",
    "first_user_options = client.get_users(tables[0])\n",
    "first_variable_table = client.get_variable_names(tables[0])"
   ]
  },
  {
   "cell_type": "code",
   "execution_count": 15,
   "id": "42258b33-45d4-4190-a7f8-b7a215d8b1e6",
   "metadata": {},
   "outputs": [],
   "source": [
    "# client.get_data_prediction(first_user_options[1], 24, tables[0])"
   ]
  },
  {
   "cell_type": "code",
   "execution_count": 17,
   "id": "cf4f8ae4-5623-4b0c-b763-57ed4e2a7ffe",
   "metadata": {},
   "outputs": [
    {
     "data": {
      "application/vnd.jupyter.widget-view+json": {
       "model_id": "4027037a81d747cc958adc37dd73b007",
       "version_major": 2,
       "version_minor": 0
      },
      "text/plain": [
       "Dropdown(description='Table:', options=('dailySleep', 'dailyWeight', 'dailyActivity', 'hourlyActivity'), value…"
      ]
     },
     "metadata": {},
     "output_type": "display_data"
    },
    {
     "data": {
      "application/vnd.jupyter.widget-view+json": {
       "model_id": "2018ab30939640fe8fd68e11c4200a66",
       "version_major": 2,
       "version_minor": 0
      },
      "text/plain": [
       "Dropdown(description='User:', options=('2347167796', '4319703577', '4388161847', '4020332650', '2026352035', '…"
      ]
     },
     "metadata": {},
     "output_type": "display_data"
    },
    {
     "data": {
      "application/vnd.jupyter.widget-view+json": {
       "model_id": "683ad23773a14b95be8707a181417e92",
       "version_major": 2,
       "version_minor": 0
      },
      "text/plain": [
       "Dropdown(description='Variable:', options=('TotalSleepRecords', 'TotalMinutesAsleep', 'TotalTimeInBed'), value…"
      ]
     },
     "metadata": {},
     "output_type": "display_data"
    },
    {
     "data": {
      "application/vnd.jupyter.widget-view+json": {
       "model_id": "7153b0a46a1547e983ceaa3e7c09a6be",
       "version_major": 2,
       "version_minor": 0
      },
      "text/plain": [
       "Button(description='Get Predictions', style=ButtonStyle())"
      ]
     },
     "metadata": {},
     "output_type": "display_data"
    },
    {
     "data": {
      "application/vnd.jupyter.widget-view+json": {
       "model_id": "cbf718f169c44dac9d8fb47c753f1ec6",
       "version_major": 2,
       "version_minor": 0
      },
      "text/plain": [
       "Output()"
      ]
     },
     "metadata": {},
     "output_type": "display_data"
    }
   ],
   "source": [
    "output = widgets.Output()\n",
    "\n",
    "def dropdown_eventhandler(change):\n",
    "    determine(dropdown.value)\n",
    "\n",
    "users_tables = {}\n",
    "for tab in tables:\n",
    "    users_tables[tab] = client.get_users(tab)\n",
    "\n",
    "def determine(x):\n",
    "    dropdown_dep.options = users_tables[x]\n",
    "    \n",
    "def figure_eventhandler_user(change):\n",
    "    user = change.new\n",
    "    plotting(user, dropdown.value, dropdown_var.value)\n",
    "    display(output)\n",
    "\n",
    "def variable_table(change):\n",
    "    table_name = change.new\n",
    "    dropdown_var.options = client.get_variable_names(table_name)\n",
    "\n",
    "\n",
    "dropdown = Dropdown(description=\"Table:\", options=tables)\n",
    "dropdown_dep = Dropdown(description=\"User:\", options=first_user_options)\n",
    "dropdown_var = Dropdown(description=\"Variable:\", options=first_variable_table)\n",
    "dropdown.observe(dropdown_eventhandler, names='value')\n",
    "dropdown.observe(variable_table, names='value')\n",
    "\n",
    "button = widgets.Button(description=\"Get Predictions\")\n",
    "\n",
    "display(dropdown, dropdown_dep, dropdown_var, button, output)\n",
    "\n",
    "\n",
    "def on_button_clicked(b):\n",
    "    plotting(dropdown_dep.value, dropdown.value, dropdown_var.value)\n",
    "    display(output)\n",
    "\n",
    "button.on_click(on_button_clicked)\n",
    "\n",
    "\n",
    "def plotting(user, table, variable, scope=24):\n",
    "    dt = client.get_data_prediction(user, scope, table)\n",
    "    with output:\n",
    "        clear_output()\n",
    "        figure, ax = plt.subplots(figsize=(22, 6))\n",
    "        x = pd.to_datetime(dt['datetime'], infer_datetime_format=True)\n",
    "        values = dt[variable].dropna().values\n",
    "        y = np.concatenate([values, dt[variable+\"_mean\"].values[len(values):]])\n",
    "        ymax = np.concatenate([values, dt[variable+\"_upper\"].values[len(values):]])\n",
    "        ymin = np.concatenate([values, dt[variable+\"_lower\"].values[len(values):]])\n",
    "        ax.plot(x, y)\n",
    "        ax.fill_between(x, ymin, ymax, alpha=0.2)\n",
    "        plt.show(figure)"
   ]
  },
  {
   "cell_type": "markdown",
   "id": "bcf7de7d-1bc9-4306-9734-22524e8c4164",
   "metadata": {},
   "source": [
    "# Technical implementation of this demo as well as future plans"
   ]
  },
  {
   "cell_type": "markdown",
   "id": "8ef57a89-5320-4a8a-8a3b-4717e6dc27bb",
   "metadata": {},
   "source": [
    "Currently this demo uses 4 different components. AWS S3, AWS Lambda as well as a compute instance for model development.\n",
    "The full architecture is outlined here:\n",
    "![](demo_architecture.png)"
   ]
  },
  {
   "cell_type": "markdown",
   "id": "5aeb6141-e7e9-4b1c-9169-dbc9b3a2eaf7",
   "metadata": {},
   "source": [
    "This architecture, while potentially slightly to complicated to the purpose this demo aims to achieve, allows for easy extensions.\n",
    "In particular, the lambda back-end allow to quickly change and switch out data sources. For instance, it might be more desirable to move from batch prediction in its current form, to online prediction. Thus allowing faster and more immediate responses. Indeed, given more time and resources one could implement a more comprehensive architecture:\n",
    "\n",
    "![](proposed_architecture.png)"
   ]
  },
  {
   "cell_type": "code",
   "execution_count": null,
   "id": "cf429d78-aff4-4e49-bc72-6bb5d4089c2d",
   "metadata": {},
   "outputs": [],
   "source": []
  }
 ],
 "metadata": {
  "kernelspec": {
   "display_name": "Python 3 (ipykernel)",
   "language": "python",
   "name": "python3"
  },
  "language_info": {
   "codemirror_mode": {
    "name": "ipython",
    "version": 3
   },
   "file_extension": ".py",
   "mimetype": "text/x-python",
   "name": "python",
   "nbconvert_exporter": "python",
   "pygments_lexer": "ipython3",
   "version": "3.8.10"
  }
 },
 "nbformat": 4,
 "nbformat_minor": 5
}
